{
 "cells": [
  {
   "cell_type": "markdown",
   "metadata": {},
   "source": [
    "# `scinum` example"
   ]
  },
  {
   "cell_type": "code",
   "execution_count": 1,
   "metadata": {},
   "outputs": [],
   "source": [
    "from scinum import Number, NOMINAL, UP, DOWN, ABS, REL"
   ]
  },
  {
   "cell_type": "markdown",
   "metadata": {},
   "source": [
    "The examples below demonstrate\n",
    "\n",
    "- Numbers and formatting\n",
    "- Defining uncertainties\n",
    "- Multiple uncertainties\n",
    "- Automatic uncertainty propagation"
   ]
  },
  {
   "cell_type": "markdown",
   "metadata": {},
   "source": [
    "### Numbers and formatting"
   ]
  },
  {
   "cell_type": "code",
   "execution_count": 2,
   "metadata": {},
   "outputs": [
    {
     "data": {
      "text/latex": [
       "$1.234 \\pm 0.2$"
      ],
      "text/plain": [
       "<Number at 0x11426e310, '1.234 +- 0.2'>"
      ]
     },
     "execution_count": 2,
     "metadata": {},
     "output_type": "execute_result"
    }
   ],
   "source": [
    "n = Number(1.234, 0.2)\n",
    "n"
   ]
  },
  {
   "cell_type": "markdown",
   "metadata": {},
   "source": [
    "The uncertainty definition is absolute. See the examples with multiple uncertainties for relative uncertainty definitions.\n",
    "\n",
    "The representation of numbers (`repr`) in jupyter notebooks uses latex-style formatting. Internally, [`Number.str()`](https://scinum.readthedocs.io/en/latest/#scinum.Number.str) is called, which - among others - accepts a `format` argument, defaulting to `\"%s\"` (configurable globally or per instance via `Number.default_format`). Let's change the format:"
   ]
  },
  {
   "cell_type": "code",
   "execution_count": 3,
   "metadata": {},
   "outputs": [
    {
     "data": {
      "text/latex": [
       "$1.234 \\pm 0.200$"
      ],
      "text/plain": [
       "<Number at 0x11426e310, '1.234 +- 0.200'>"
      ]
     },
     "execution_count": 3,
     "metadata": {},
     "output_type": "execute_result"
    }
   ],
   "source": [
    "n.default_format = \"%.3f\"\n",
    "n"
   ]
  },
  {
   "cell_type": "code",
   "execution_count": 4,
   "metadata": {},
   "outputs": [
    {
     "data": {
      "text/plain": [
       "'1.234 +- 0.200'"
      ]
     },
     "execution_count": 4,
     "metadata": {},
     "output_type": "execute_result"
    }
   ],
   "source": [
    "# or\n",
    "n.str(\"%.3f\")"
   ]
  },
  {
   "cell_type": "markdown",
   "metadata": {},
   "source": [
    "### Defining uncertainties"
   ]
  },
  {
   "cell_type": "markdown",
   "metadata": {},
   "source": [
    "Above, `n` is defined with a single, symmetric uncertainty. Here are some basic examples to access and play it:"
   ]
  },
  {
   "cell_type": "code",
   "execution_count": 5,
   "metadata": {},
   "outputs": [
    {
     "name": "stdout",
     "output_type": "stream",
     "text": [
      "1.234\n",
      "<type 'float'>\n"
     ]
    }
   ],
   "source": [
    "# nominal value\n",
    "print(n.nominal)\n",
    "print(type(n.nominal))"
   ]
  },
  {
   "cell_type": "code",
   "execution_count": 6,
   "metadata": {},
   "outputs": [
    {
     "name": "stdout",
     "output_type": "stream",
     "text": [
      "(0.2, 0.2)\n",
      "0.2\n",
      "0.2\n"
     ]
    }
   ],
   "source": [
    "# get the uncertainty\n",
    "print(n.get_uncertainty())\n",
    "print(n.get_uncertainty(direction=UP))\n",
    "print(n.get_uncertainty(direction=DOWN))"
   ]
  },
  {
   "cell_type": "code",
   "execution_count": 7,
   "metadata": {},
   "outputs": [
    {
     "name": "stdout",
     "output_type": "stream",
     "text": [
      "1.234\n",
      "1.434\n",
      "1.034\n"
     ]
    }
   ],
   "source": [
    "# get the nominal value, shifted by the uncertainty\n",
    "print(n.get())      # nominal value\n",
    "print(n.get(UP))    # up variation\n",
    "print(n.get(DOWN))  # down variation"
   ]
  },
  {
   "cell_type": "code",
   "execution_count": 8,
   "metadata": {},
   "outputs": [
    {
     "name": "stdout",
     "output_type": "stream",
     "text": [
      "absolute factors:\n",
      "1.16207455429\n",
      "0.837925445705\n",
      "\n",
      "relative factors:\n",
      "0.162074554295\n",
      "0.162074554295\n"
     ]
    }
   ],
   "source": [
    "# some more advanved use-cases:\n",
    "\n",
    "# 1. get the multiplicative factor that would scale the nomninal value to the UP/DOWN varied ones\n",
    "print(\"absolute factors:\")\n",
    "print(n.get(UP, factor=True))\n",
    "print(n.get(DOWN, factor=True))\n",
    "\n",
    "# 2. get the factor to obtain the uncertainty only (i.e., the relative unceratinty)\n",
    "# (this is, of course, more useful in case of multiple uncertainties, see below)\n",
    "print(\"\\nrelative factors:\")\n",
    "print(n.get(UP, factor=True, diff=True))\n",
    "print(n.get(DOWN, factor=True, diff=True))"
   ]
  },
  {
   "cell_type": "markdown",
   "metadata": {},
   "source": [
    "There are also a few shorthands for the above methods:"
   ]
  },
  {
   "cell_type": "code",
   "execution_count": 9,
   "metadata": {},
   "outputs": [
    {
     "name": "stdout",
     "output_type": "stream",
     "text": [
      "1.234\n",
      "1.434\n",
      "(0.2, 0.2)\n",
      "0.2\n"
     ]
    }
   ],
   "source": [
    "# __call__ is forwarded to get()\n",
    "print(n())\n",
    "print(n(UP))\n",
    "\n",
    "# u() is forwarded to get_uncertainty()\n",
    "print(n.u())\n",
    "print(n.u(direction=UP))"
   ]
  },
  {
   "cell_type": "markdown",
   "metadata": {},
   "source": [
    "### Multiple uncertainties"
   ]
  },
  {
   "cell_type": "markdown",
   "metadata": {},
   "source": [
    "Let's create a number that has two uncertainties: `\"stat\"` and `\"syst\"`. The `\"stat\"` uncertainty is asymmetric, and the `\"syst\"` uncertainty is relative."
   ]
  },
  {
   "cell_type": "code",
   "execution_count": 10,
   "metadata": {},
   "outputs": [
    {
     "data": {
      "text/latex": [
       "$8848.0 \\pm 4424.0 \\left(\\text{syst}\\right) \\,^{+30.0}_{-20.0} \\left(\\text{stat}\\right)$"
      ],
      "text/plain": [
       "<Number at 0x11425ccd0, '8848.0 +- 4424.0 (syst) +30.0-20.0 (stat)'>"
      ]
     },
     "execution_count": 10,
     "metadata": {},
     "output_type": "execute_result"
    }
   ],
   "source": [
    "n = Number(8848, {\n",
    "    \"stat\": (30, 20),   # absolute +30-20 uncertainty\n",
    "    \"syst\": (REL, 0.5),  # relative +-50% uncertainty\n",
    "})\n",
    "n"
   ]
  },
  {
   "cell_type": "markdown",
   "metadata": {},
   "source": [
    "Similar to above, we can access the uncertainties and shifted values with `get()` (or `__call__`) and `get_uncertainty()` (or `u()`). But this time, we can distinguish between the combined (in quadrature) value or the particular uncertainty sources:"
   ]
  },
  {
   "cell_type": "code",
   "execution_count": 11,
   "metadata": {},
   "outputs": [
    {
     "name": "stdout",
     "output_type": "stream",
     "text": [
      "8848.0\n",
      "{'syst': (4424.0, 4424.0), 'stat': (30.0, 20.0)}\n"
     ]
    }
   ],
   "source": [
    "# nominal value as before\n",
    "print(n.nominal)\n",
    "\n",
    "# get all uncertainties (stored absolute internally)\n",
    "print(n.uncertainties)"
   ]
  },
  {
   "cell_type": "code",
   "execution_count": 12,
   "metadata": {},
   "outputs": [
    {
     "name": "stdout",
     "output_type": "stream",
     "text": [
      "(4424.0, 4424.0)\n",
      "(30.0, 20.0)\n",
      "30.0\n"
     ]
    }
   ],
   "source": [
    "# get particular uncertainties\n",
    "print(n.u(\"syst\"))\n",
    "print(n.u(\"stat\"))\n",
    "print(n.u(\"stat\", direction=UP))"
   ]
  },
  {
   "cell_type": "code",
   "execution_count": 13,
   "metadata": {},
   "outputs": [
    {
     "name": "stdout",
     "output_type": "stream",
     "text": [
      "8878.0\n",
      "4424.0\n",
      "13272.1017167\n"
     ]
    }
   ],
   "source": [
    "# get the nominal value, shifted by particular uncertainties\n",
    "print(n(UP, \"stat\"))\n",
    "print(n(DOWN, \"syst\"))\n",
    "\n",
    "# compute the shifted value for both uncertainties, added in quadrature without correlation (default but configurable)\n",
    "print(n(UP))"
   ]
  },
  {
   "cell_type": "markdown",
   "metadata": {},
   "source": [
    "As before, we can also access certain aspects of the uncertainties:"
   ]
  },
  {
   "cell_type": "code",
   "execution_count": 14,
   "metadata": {},
   "outputs": [
    {
     "name": "stdout",
     "output_type": "stream",
     "text": [
      "factors for particular uncertainties:\n",
      "1.00339059675\n",
      "0.5\n",
      "\n",
      "factors for the combined uncertainty:\n",
      "1.50001149601\n",
      "0.499994890628\n"
     ]
    }
   ],
   "source": [
    "print(\"factors for particular uncertainties:\")\n",
    "print(n.get(UP, \"stat\", factor=True))\n",
    "print(n.get(DOWN, \"syst\", factor=True))\n",
    "\n",
    "print(\"\\nfactors for the combined uncertainty:\")\n",
    "print(n.get(UP, factor=True))\n",
    "print(n.get(DOWN, factor=True))"
   ]
  },
  {
   "cell_type": "markdown",
   "metadata": {},
   "source": [
    "We can also apply some nice formatting:"
   ]
  },
  {
   "cell_type": "code",
   "execution_count": 15,
   "metadata": {},
   "outputs": [
    {
     "name": "stdout",
     "output_type": "stream",
     "text": [
      "8848.0 +- 4424.0 (syst) +30.0-20.0 (stat)\n",
      "8848.00 +- 4424.00 (syst) +30.00-20.00 (stat)\n",
      "8848.00 +- 4424.00 (syst) +30.00-20.00 (stat) m\n",
      "8848.00 +4424.00-4424.00 (syst) +30.00-20.00 (stat) m\n",
      "8.85 +- 4.42 (syst) +0.03-0.02 (stat) x 1E3 m\n",
      "8.85 +- 4.42 (syst) +0.03-0.02 (stat) km\n",
      "8848.00 #pm 4424.00 #left(syst#right) ^{+30.00}_{-20.00} #left(stat#right) m\n"
     ]
    }
   ],
   "source": [
    "print(n.str())\n",
    "print(n.str(\"%.2f\"))\n",
    "print(n.str(\"%.2f\", unit=\"m\"))\n",
    "print(n.str(\"%.2f\", unit=\"m\", force_asymmetric=True))\n",
    "print(n.str(\"%.2f\", unit=\"m\", scientific=True))\n",
    "print(n.str(\"%.2f\", unit=\"m\", si=True))\n",
    "print(n.str(\"%.2f\", unit=\"m\", style=\"root\"))"
   ]
  },
  {
   "cell_type": "markdown",
   "metadata": {},
   "source": [
    "### Automatic uncertainty propagation"
   ]
  },
  {
   "cell_type": "markdown",
   "metadata": {},
   "source": [
    "Let's continue working with the number `n` from above.\n",
    "\n",
    "Uncertainty propagation works in a pythonic way:"
   ]
  },
  {
   "cell_type": "code",
   "execution_count": 16,
   "metadata": {},
   "outputs": [
    {
     "data": {
      "text/latex": [
       "$9048.0 \\pm 4424.0 \\left(\\text{syst}\\right) \\,^{+30.0}_{-20.0} \\left(\\text{stat}\\right)$"
      ],
      "text/plain": [
       "<Number at 0x11426e0d0, '9048.0 +- 4424.0 (syst) +30.0-20.0 (stat)'>"
      ]
     },
     "execution_count": 16,
     "metadata": {},
     "output_type": "execute_result"
    }
   ],
   "source": [
    "n + 200"
   ]
  },
  {
   "cell_type": "code",
   "execution_count": 17,
   "metadata": {},
   "outputs": [
    {
     "data": {
      "text/latex": [
       "$4424.0 \\pm 2212.0 \\left(\\text{syst}\\right) \\,^{+15.0}_{-10.0} \\left(\\text{stat}\\right)$"
      ],
      "text/plain": [
       "<Number at 0x11426e410, '4424.0 +- 2212.0 (syst) +15.0-10.0 (stat)'>"
      ]
     },
     "execution_count": 17,
     "metadata": {},
     "output_type": "execute_result"
    }
   ],
   "source": [
    "n / 2"
   ]
  },
  {
   "cell_type": "code",
   "execution_count": 18,
   "metadata": {},
   "outputs": [
    {
     "data": {
      "text/latex": [
       "$94.0638081304 \\pm 23.5159520326 \\left(\\text{syst}\\right) \\,^{+0.159466220836}_{-0.106310813891} \\left(\\text{stat}\\right)$"
      ],
      "text/plain": [
       "<Number at 0x11426ed10, '94.0638081304 +- 23.5159520326 (syst) +0.159466220836-0.106310813891 (stat)'>"
      ]
     },
     "execution_count": 18,
     "metadata": {},
     "output_type": "execute_result"
    }
   ],
   "source": [
    "n**0.5"
   ]
  },
  {
   "cell_type": "markdown",
   "metadata": {},
   "source": [
    "In cases such as the last one, formatting makes a lot of sense ..."
   ]
  },
  {
   "cell_type": "code",
   "execution_count": 19,
   "metadata": {},
   "outputs": [
    {
     "data": {
      "text/plain": [
       "'94.06 +- 23.52 (syst) +0.16-0.11 (stat)'"
      ]
     },
     "execution_count": 19,
     "metadata": {},
     "output_type": "execute_result"
    }
   ],
   "source": [
    "(n**0.5).str(\"%.2f\")"
   ]
  },
  {
   "cell_type": "markdown",
   "metadata": {},
   "source": [
    "More complex operations such as `exp`, `log`, `sin`, etc, are provided on the `ops` object, which mimics Python's `math` module. The benefit of the `ops` object is that all its operations are aware of Gaussian error propagation rules."
   ]
  },
  {
   "cell_type": "code",
   "execution_count": 23,
   "metadata": {},
   "outputs": [
    {
     "data": {
      "text/latex": [
       "$9.088 \\pm 0.500 \\left(\\text{syst}\\right) \\,^{+0.003}_{-0.002} \\left(\\text{stat}\\right)$"
      ],
      "text/plain": [
       "<Number at 0x114288390, '9.088 +- 0.500 (syst) +0.003-0.002 (stat)'>"
      ]
     },
     "execution_count": 23,
     "metadata": {},
     "output_type": "execute_result"
    }
   ],
   "source": [
    "from scinum import ops\n",
    "\n",
    "# change the default format for convenience\n",
    "Number.default_format = \"%.3f\"\n",
    "\n",
    "# compute the log of n\n",
    "ops.log(n)"
   ]
  },
  {
   "cell_type": "markdown",
   "metadata": {},
   "source": [
    "The propagation is actually performed simultaneously per uncertainty source."
   ]
  },
  {
   "cell_type": "code",
   "execution_count": 30,
   "metadata": {},
   "outputs": [
    {
     "data": {
      "text/latex": [
       "$13848.000 \\pm 4535.612 \\left(\\text{syst}\\right) \\,^{+30.000}_{-20.000} \\left(\\text{stat}\\right)$"
      ],
      "text/plain": [
       "<Number at 0x114288850, '13848.000 +- 4535.612 (syst) +30.000-20.000 (stat)'>"
      ]
     },
     "execution_count": 30,
     "metadata": {},
     "output_type": "execute_result"
    }
   ],
   "source": [
    "m = Number(5000, {\"syst\": 1000})\n",
    "\n",
    "n + m"
   ]
  },
  {
   "cell_type": "code",
   "execution_count": 31,
   "metadata": {},
   "outputs": [
    {
     "data": {
      "text/latex": [
       "$1.770 \\pm 0.953 \\left(\\text{syst}\\right) \\,^{+0.006}_{-0.004} \\left(\\text{stat}\\right)$"
      ],
      "text/plain": [
       "<Number at 0x114288610, '1.770 +- 0.953 (syst) +0.006-0.004 (stat)'>"
      ]
     },
     "execution_count": 31,
     "metadata": {},
     "output_type": "execute_result"
    }
   ],
   "source": [
    "n / m"
   ]
  },
  {
   "cell_type": "markdown",
   "metadata": {},
   "source": [
    "By default, equally named uncertainty sources are assumed to be fully correlated (rho = 1). You can configure the correlation in operations by explicitely using explicit methods on the number object."
   ]
  },
  {
   "cell_type": "code",
   "execution_count": 32,
   "metadata": {},
   "outputs": [
    {
     "data": {
      "text/latex": [
       "$13848.000 \\pm 4999.578 \\left(\\text{syst}\\right) \\,^{+30.000}_{-20.000} \\left(\\text{stat}\\right)$"
      ],
      "text/plain": [
       "<Number at 0x114288310, '13848.000 +- 4999.578 (syst) +30.000-20.000 (stat)'>"
      ]
     },
     "execution_count": 32,
     "metadata": {},
     "output_type": "execute_result"
    }
   ],
   "source": [
    "n.add(m, rho=0.5, inplace=False)"
   ]
  },
  {
   "cell_type": "markdown",
   "metadata": {},
   "source": [
    "When you set `inplace` to `True` (the default), `n` is updated inplace."
   ]
  },
  {
   "cell_type": "code",
   "execution_count": 34,
   "metadata": {},
   "outputs": [
    {
     "data": {
      "text/latex": [
       "$18848.000 \\pm 5567.347 \\left(\\text{syst}\\right) \\,^{+30.000}_{-20.000} \\left(\\text{stat}\\right)$"
      ],
      "text/plain": [
       "<Number at 0x11425ccd0, '18848.000 +- 5567.347 (syst) +30.000-20.000 (stat)'>"
      ]
     },
     "execution_count": 34,
     "metadata": {},
     "output_type": "execute_result"
    }
   ],
   "source": [
    "n.add(m, rho=0.5)\n",
    "n"
   ]
  }
 ],
 "metadata": {
  "kernelspec": {
   "display_name": "Python 2",
   "language": "python",
   "name": "python2"
  },
  "language_info": {
   "codemirror_mode": {
    "name": "ipython",
    "version": 2
   },
   "file_extension": ".py",
   "mimetype": "text/x-python",
   "name": "python",
   "nbconvert_exporter": "python",
   "pygments_lexer": "ipython2",
   "version": "2.7.14"
  }
 },
 "nbformat": 4,
 "nbformat_minor": 2
}
